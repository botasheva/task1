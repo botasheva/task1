{
 "metadata": {
  "name": ""
 },
 "nbformat": 3,
 "nbformat_minor": 0,
 "worksheets": [
  {
   "cells": [
    {
     "cell_type": "code",
     "collapsed": false,
     "input": [
      "import pandas as pd\n",
      "import numpy as np\n",
      "import matplotlib as plt\n",
      "import csv\n",
      "\n",
      "data = []\n",
      "data2 = []\n",
      "\n",
      "with open('/home/user/train1.csv', 'rb') as csvfile:\n",
      "    spamreader = csv.reader(csvfile, delimiter=',', quotechar='|')\n",
      "    for row in spamreader:#\u043f\u0440\u0435\u043e\u0431\u0440\u0430\u0437\u043e\u0432\u0430\u0442\u044c \u043d\u0430\u0431\u043e\u0440 \u0441\u0442\u0440\u043e\u043a\u043e\u0432\u044b\u0445 \u0434\u0430\u043d\u043d\u044b\u0445 \u0432 \u043c\u0430\u0442\u0440\u0438\u0446\u0443\n",
      "        row = [float(x) for x in row]\n",
      "        data.append(row)\n",
      "train = pd.DataFrame(data)\n",
      "\n",
      "with open('/home/user/test1.csv', 'rb') as csvfile:\n",
      "    spamreader = csv.reader(csvfile, delimiter=',', quotechar='|')\n",
      "    for row in spamreader:#\u043f\u0440\u0435\u043e\u0431\u0440\u0430\u0437\u043e\u0432\u0430\u0442\u044c \u043d\u0430\u0431\u043e\u0440 \u0441\u0442\u0440\u043e\u043a\u043e\u0432\u044b\u0445 \u0434\u0430\u043d\u043d\u044b\u0445 \u0432 \u043c\u0430\u0442\u0440\u0438\u0446\u0443\n",
      "        row = [float(x) for x in row]\n",
      "        data2.append(row)\n",
      "test = pd.DataFrame(data2)"
     ],
     "language": "python",
     "metadata": {},
     "outputs": [],
     "prompt_number": 66
    },
    {
     "cell_type": "code",
     "collapsed": false,
     "input": [
      "#train_x = train.loc[:,[0,1, 2]].values\n",
      "train_y = train[5].values\n",
      "train_x = train[[0,1,2,3,4]].values\n",
      "test_x = test[[0,1,2,3,4]].values"
     ],
     "language": "python",
     "metadata": {},
     "outputs": [],
     "prompt_number": 67
    },
    {
     "cell_type": "code",
     "collapsed": false,
     "input": [
      "from sklearn import svm\n",
      "clf = svm.SVC()\n",
      "clf.fit(train_x, train_y)\n",
      "test.insert(5, 'result', clf.predict(test_x))\n",
      "\n",
      "#\u0442\u0443\u0442 \u043a\u043e\u043d\u0435\u0446, \u0434\u0430\u043b\u044c\u0448\u0435 \u044f \u043f\u044b\u0442\u0430\u043b\u0430\u0441\u044c \u0447\u0442\u043e-\u0442\u043e \u0441\u0434\u0435\u043b\u0430\u0442\u044c \u0438 \u043f\u0440\u043e\u0430\u043d\u0430\u043b\u0438\u0437\u0438\u0440\u043e\u0432\u0430\u0442\u044c, \u043d\u043e \u043f\u043e\u043a\u0430 \u0431\u0435\u0437\u0443\u0441\u043f\u0435\u0448\u043d\u043e"
     ],
     "language": "python",
     "metadata": {},
     "outputs": [],
     "prompt_number": 68
    },
    {
     "cell_type": "code",
     "collapsed": false,
     "input": [
      "plb.hist(train[0], bins=np.arange(-6, 6), color ='#cccccc');\n"
     ],
     "language": "python",
     "metadata": {},
     "outputs": [
      {
       "metadata": {},
       "output_type": "display_data",
       "png": "[encoded data removed]",
       "text": [
        "<matplotlib.figure.Figure at 0xcd9272c>"
       ]
      }
     ],
     "prompt_number": 87
    },
    {
     "cell_type": "code",
     "collapsed": false,
     "input": [
      "plb.hist(train[0], bins=20, color='#cccccc')"
     ],
     "language": "python",
     "metadata": {},
     "outputs": [
      {
       "metadata": {},
       "output_type": "pyout",
       "prompt_number": 88,
       "text": [
        "(array([ 1,  1,  2,  3, 10, 11, 17, 24, 22, 22, 23, 31, 25, 18, 15, 12,  5,\n",
        "        3,  3,  2]),\n",
        " array([-4.9817 , -4.49653, -4.01136, -3.52619, -3.04102, -2.55585,\n",
        "       -2.07068, -1.58551, -1.10034, -0.61517, -0.13   ,  0.35517,\n",
        "        0.84034,  1.32551,  1.81068,  2.29585,  2.78102,  3.26619,\n",
        "        3.75136,  4.23653,  4.7217 ]),\n",
        " <a list of 20 Patch objects>)"
       ]
      },
      {
       "metadata": {},
       "output_type": "display_data",
       "png": "[encoded data removed]",
       "text": [
        "<matplotlib.figure.Figure at 0xc98928c>"
       ]
      }
     ],
     "prompt_number": 88
    },
    {
     "cell_type": "code",
     "collapsed": false,
     "input": [
      "plb.hist(train[0].dropna(), bins=50, color='#cccccc');"
     ],
     "language": "python",
     "metadata": {},
     "outputs": [
      {
       "metadata": {},
       "output_type": "display_data",
       "png": "[encoded data removed]",
       "text": [
        "<matplotlib.figure.Figure at 0xcc1b60c>"
       ]
      }
     ],
     "prompt_number": 90
    },
    {
     "cell_type": "code",
     "collapsed": false,
     "input": [
      "plb.scatter(train[5], train[0], lw=0, alpha=.08, color='k');"
     ],
     "language": "python",
     "metadata": {},
     "outputs": [
      {
       "metadata": {},
       "output_type": "display_data",
       "png": "[encoded data removed]",
       "text": [
        "<matplotlib.figure.Figure at 0xc99d9ac>"
       ]
      }
     ],
     "prompt_number": 93
    },
    {
     "cell_type": "code",
     "collapsed": false,
     "input": [
      "table = train[(train[5] == 0)]\n",
      "table1 = train[(train[5] == 1)]"
     ],
     "language": "python",
     "metadata": {},
     "outputs": [],
     "prompt_number": 96
    },
    {
     "cell_type": "code",
     "collapsed": false,
     "input": [],
     "language": "python",
     "metadata": {},
     "outputs": [
      {
       "html": [
        "<div style=\"max-height:1000px;max-width:1500px;overflow:auto;\">\n",
        "<table border=\"1\" class=\"dataframe\">\n",
        "  <thead>\n",
        "    <tr style=\"text-align: right;\">\n",
        "      <th></th>\n",
        "      <th>0</th>\n",
        "      <th>1</th>\n",
        "      <th>2</th>\n",
        "      <th>3</th>\n",
        "      <th>4</th>\n",
        "      <th>5</th>\n",
        "    </tr>\n",
        "  </thead>\n",
        "  <tbody>\n",
        "    <tr>\n",
        "      <th>3</th>\n",
        "      <td> 1.7195</td>\n",
        "      <td> 3.3527</td>\n",
        "      <td> 0.0704</td>\n",
        "      <td>-1.8166</td>\n",
        "      <td> 0.5757</td>\n",
        "      <td> 1</td>\n",
        "    </tr>\n",
        "    <tr>\n",
        "      <th>4</th>\n",
        "      <td> 0.7569</td>\n",
        "      <td> 0.2539</td>\n",
        "      <td>-1.2003</td>\n",
        "      <td>-0.3202</td>\n",
        "      <td> 1.7770</td>\n",
        "      <td> 1</td>\n",
        "    </tr>\n",
        "    <tr>\n",
        "      <th>6</th>\n",
        "      <td> 0.2941</td>\n",
        "      <td> 3.1111</td>\n",
        "      <td> 0.8723</td>\n",
        "      <td>-1.8879</td>\n",
        "      <td> 2.8604</td>\n",
        "      <td> 1</td>\n",
        "    </tr>\n",
        "    <tr>\n",
        "      <th>8</th>\n",
        "      <td> 1.9610</td>\n",
        "      <td> 0.6119</td>\n",
        "      <td> 3.0341</td>\n",
        "      <td>-1.2565</td>\n",
        "      <td> 3.4065</td>\n",
        "      <td> 1</td>\n",
        "    </tr>\n",
        "    <tr>\n",
        "      <th>9</th>\n",
        "      <td> 0.4622</td>\n",
        "      <td> 0.1839</td>\n",
        "      <td> 0.5428</td>\n",
        "      <td>-0.4861</td>\n",
        "      <td> 0.4930</td>\n",
        "      <td> 1</td>\n",
        "    </tr>\n",
        "  </tbody>\n",
        "</table>\n",
        "</div>"
       ],
       "metadata": {},
       "output_type": "pyout",
       "prompt_number": 97,
       "text": [
        "        0       1       2       3       4  5\n",
        "3  1.7195  3.3527  0.0704 -1.8166  0.5757  1\n",
        "4  0.7569  0.2539 -1.2003 -0.3202  1.7770  1\n",
        "6  0.2941  3.1111  0.8723 -1.8879  2.8604  1\n",
        "8  1.9610  0.6119  3.0341 -1.2565  3.4065  1\n",
        "9  0.4622  0.1839  0.5428 -0.4861  0.4930  1"
       ]
      }
     ],
     "prompt_number": 97
    },
    {
     "cell_type": "code",
     "collapsed": false,
     "input": [],
     "language": "python",
     "metadata": {},
     "outputs": []
    }
   ],
   "metadata": {}
  }
 ]
}